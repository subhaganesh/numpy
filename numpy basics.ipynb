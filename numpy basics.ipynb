{
 "cells": [
  {
   "cell_type": "markdown",
   "id": "3c0296a4",
   "metadata": {},
   "source": [
    "# Numpy basics"
   ]
  },
  {
   "cell_type": "code",
   "execution_count": 1,
   "id": "9818a0ce",
   "metadata": {},
   "outputs": [],
   "source": [
    "import numpy as np"
   ]
  },
  {
   "cell_type": "markdown",
   "id": "7a2089b6",
   "metadata": {},
   "source": [
    "the basics"
   ]
  },
  {
   "cell_type": "code",
   "execution_count": 2,
   "id": "80a995ad",
   "metadata": {},
   "outputs": [
    {
     "data": {
      "text/plain": [
       "array([1, 2, 3])"
      ]
     },
     "execution_count": 2,
     "metadata": {},
     "output_type": "execute_result"
    }
   ],
   "source": [
    "a=np.array([1,2,3])\n",
    "a"
   ]
  },
  {
   "cell_type": "code",
   "execution_count": 3,
   "id": "44e06e6f",
   "metadata": {},
   "outputs": [
    {
     "data": {
      "text/plain": [
       "array([[9., 8., 7.],\n",
       "       [6., 5., 4.]])"
      ]
     },
     "execution_count": 3,
     "metadata": {},
     "output_type": "execute_result"
    }
   ],
   "source": [
    "b=np.array([[9.0,8.0,7.0],[6.0,5.0,4.0]])\n",
    "b"
   ]
  },
  {
   "cell_type": "code",
   "execution_count": 4,
   "id": "2c33d341",
   "metadata": {},
   "outputs": [
    {
     "data": {
      "text/plain": [
       "2"
      ]
     },
     "execution_count": 4,
     "metadata": {},
     "output_type": "execute_result"
    }
   ],
   "source": [
    "#get dimension\n",
    "b.ndim"
   ]
  },
  {
   "cell_type": "code",
   "execution_count": 5,
   "id": "47584eef",
   "metadata": {},
   "outputs": [
    {
     "data": {
      "text/plain": [
       "(3,)"
      ]
     },
     "execution_count": 5,
     "metadata": {},
     "output_type": "execute_result"
    }
   ],
   "source": [
    "a.shape"
   ]
  },
  {
   "cell_type": "code",
   "execution_count": 6,
   "id": "6d7b91b3",
   "metadata": {},
   "outputs": [
    {
     "data": {
      "text/plain": [
       "dtype('int32')"
      ]
     },
     "execution_count": 6,
     "metadata": {},
     "output_type": "execute_result"
    }
   ],
   "source": [
    "#get type #int32 is default\n",
    "a.dtype"
   ]
  },
  {
   "cell_type": "code",
   "execution_count": 7,
   "id": "f4bea1f1",
   "metadata": {},
   "outputs": [
    {
     "data": {
      "text/plain": [
       "dtype('int16')"
      ]
     },
     "execution_count": 7,
     "metadata": {},
     "output_type": "execute_result"
    }
   ],
   "source": [
    "a=np.array([1,2,3],dtype='int16')\n",
    "a.dtype"
   ]
  },
  {
   "cell_type": "code",
   "execution_count": 8,
   "id": "ee1dccf8",
   "metadata": {},
   "outputs": [
    {
     "data": {
      "text/plain": [
       "2"
      ]
     },
     "execution_count": 8,
     "metadata": {},
     "output_type": "execute_result"
    }
   ],
   "source": [
    "#get size\n",
    "a.itemsize"
   ]
  },
  {
   "cell_type": "code",
   "execution_count": 9,
   "id": "c39c3b32",
   "metadata": {},
   "outputs": [
    {
     "data": {
      "text/plain": [
       "3"
      ]
     },
     "execution_count": 9,
     "metadata": {},
     "output_type": "execute_result"
    }
   ],
   "source": [
    "a.size"
   ]
  },
  {
   "cell_type": "code",
   "execution_count": 10,
   "id": "4e4cfd16",
   "metadata": {},
   "outputs": [
    {
     "data": {
      "text/plain": [
       "6"
      ]
     },
     "execution_count": 10,
     "metadata": {},
     "output_type": "execute_result"
    }
   ],
   "source": [
    "# get total size\n",
    "a.nbytes   \n",
    "    #or\n",
    "a.size*a.itemsize"
   ]
  },
  {
   "cell_type": "code",
   "execution_count": 11,
   "id": "7a0ff09c",
   "metadata": {},
   "outputs": [
    {
     "data": {
      "text/plain": [
       "48"
      ]
     },
     "execution_count": 11,
     "metadata": {},
     "output_type": "execute_result"
    }
   ],
   "source": [
    "#floats are bigger than integers\n",
    "b.size\n",
    "b.itemsize\n",
    "b.nbytes"
   ]
  },
  {
   "cell_type": "markdown",
   "id": "da9d4a31",
   "metadata": {},
   "source": [
    "# accessing/changing specific elements, rows ,columns etc"
   ]
  },
  {
   "cell_type": "code",
   "execution_count": 12,
   "id": "6d74c39c",
   "metadata": {},
   "outputs": [
    {
     "data": {
      "text/plain": [
       "array([[ 1,  2,  3,  4,  5,  6,  7],\n",
       "       [ 8,  9, 10, 11, 12, 13, 14]])"
      ]
     },
     "execution_count": 12,
     "metadata": {},
     "output_type": "execute_result"
    }
   ],
   "source": [
    "a=np.array([[1,2,3,4,5,6,7],[8,9,10,11,12,13,14]])\n",
    "a"
   ]
  },
  {
   "cell_type": "code",
   "execution_count": 13,
   "id": "07b2aaa1",
   "metadata": {},
   "outputs": [
    {
     "data": {
      "text/plain": [
       "(2, 7)"
      ]
     },
     "execution_count": 13,
     "metadata": {},
     "output_type": "execute_result"
    }
   ],
   "source": [
    "a.shape"
   ]
  },
  {
   "cell_type": "code",
   "execution_count": 14,
   "id": "4146224e",
   "metadata": {},
   "outputs": [
    {
     "data": {
      "text/plain": [
       "6"
      ]
     },
     "execution_count": 14,
     "metadata": {},
     "output_type": "execute_result"
    }
   ],
   "source": [
    "#get a specific element [r,c]\n",
    "a[0,5]\n",
    "  #or\n",
    "a[0,-2]"
   ]
  },
  {
   "cell_type": "code",
   "execution_count": 15,
   "id": "483186f5",
   "metadata": {},
   "outputs": [
    {
     "data": {
      "text/plain": [
       "array([1, 2, 3, 4, 5, 6, 7])"
      ]
     },
     "execution_count": 15,
     "metadata": {},
     "output_type": "execute_result"
    }
   ],
   "source": [
    "# get a specific row\n",
    "a[0, :]"
   ]
  },
  {
   "cell_type": "code",
   "execution_count": 16,
   "id": "c74620ec",
   "metadata": {},
   "outputs": [
    {
     "data": {
      "text/plain": [
       "array([ 4, 11])"
      ]
     },
     "execution_count": 16,
     "metadata": {},
     "output_type": "execute_result"
    }
   ],
   "source": [
    "#get a specific column\n",
    "a[:,3]"
   ]
  },
  {
   "cell_type": "code",
   "execution_count": 17,
   "id": "a769d733",
   "metadata": {},
   "outputs": [
    {
     "data": {
      "text/plain": [
       "array([2, 4, 6])"
      ]
     },
     "execution_count": 17,
     "metadata": {},
     "output_type": "execute_result"
    }
   ],
   "source": [
    "#getting a little more  fancy [startindex:endindex:stepsize]\n",
    "a[0,1:7:2]\n"
   ]
  },
  {
   "cell_type": "code",
   "execution_count": 18,
   "id": "bb2b6834",
   "metadata": {},
   "outputs": [
    {
     "data": {
      "text/plain": [
       "array([[ 1,  2,  3, 90,  5,  6,  7],\n",
       "       [ 8,  9, 10, 11, 12, 13, 14]])"
      ]
     },
     "execution_count": 18,
     "metadata": {},
     "output_type": "execute_result"
    }
   ],
   "source": [
    "a[0,3]=90\n",
    "a"
   ]
  },
  {
   "cell_type": "code",
   "execution_count": 19,
   "id": "7e90bcfa",
   "metadata": {},
   "outputs": [
    {
     "data": {
      "text/plain": [
       "array([[ 1,  2,  3, 90,  5,  6,  7],\n",
       "       [ 8,  9, 10, 11, 12, 13, 14]])"
      ]
     },
     "execution_count": 19,
     "metadata": {},
     "output_type": "execute_result"
    }
   ],
   "source": [
    "a"
   ]
  },
  {
   "cell_type": "code",
   "execution_count": 20,
   "id": "234c50b5",
   "metadata": {},
   "outputs": [
    {
     "data": {
      "text/plain": [
       "array([[ 1,  2,  1, 90,  5,  6,  7],\n",
       "       [ 8,  9,  2, 11, 12, 13, 14]])"
      ]
     },
     "execution_count": 20,
     "metadata": {},
     "output_type": "execute_result"
    }
   ],
   "source": [
    "a[:,2]=5\n",
    "a\n",
    "a[:,2]=[1,2]\n",
    "a"
   ]
  },
  {
   "cell_type": "markdown",
   "id": "e38f7bc3",
   "metadata": {},
   "source": [
    "# 3D example"
   ]
  },
  {
   "cell_type": "code",
   "execution_count": 21,
   "id": "27912b64",
   "metadata": {},
   "outputs": [
    {
     "data": {
      "text/plain": [
       "array([[[1, 2],\n",
       "        [3, 4]],\n",
       "\n",
       "       [[5, 6],\n",
       "        [7, 8]]])"
      ]
     },
     "execution_count": 21,
     "metadata": {},
     "output_type": "execute_result"
    }
   ],
   "source": [
    "b=np.array([[[1,2],[3,4]],[[5,6],[7,8]]])\n",
    "b"
   ]
  },
  {
   "cell_type": "code",
   "execution_count": 22,
   "id": "42307afe",
   "metadata": {
    "scrolled": true
   },
   "outputs": [
    {
     "data": {
      "text/plain": [
       "4"
      ]
     },
     "execution_count": 22,
     "metadata": {},
     "output_type": "execute_result"
    }
   ],
   "source": [
    "#get specific element (work outside in)\n",
    "b[0,1,1]"
   ]
  },
  {
   "cell_type": "code",
   "execution_count": 23,
   "id": "17dab96d",
   "metadata": {},
   "outputs": [
    {
     "data": {
      "text/plain": [
       "array([[3, 4],\n",
       "       [7, 8]])"
      ]
     },
     "execution_count": 23,
     "metadata": {},
     "output_type": "execute_result"
    }
   ],
   "source": [
    "b[:,1,:]"
   ]
  },
  {
   "cell_type": "code",
   "execution_count": 24,
   "id": "1c13b14c",
   "metadata": {},
   "outputs": [
    {
     "data": {
      "text/plain": [
       "array([[1, 3],\n",
       "       [5, 7]])"
      ]
     },
     "execution_count": 24,
     "metadata": {},
     "output_type": "execute_result"
    }
   ],
   "source": [
    "b[:,:,0]"
   ]
  },
  {
   "cell_type": "code",
   "execution_count": 25,
   "id": "3a7b1f71",
   "metadata": {},
   "outputs": [
    {
     "data": {
      "text/plain": [
       "array([[[1, 2],\n",
       "        [0, 0]],\n",
       "\n",
       "       [[5, 6],\n",
       "        [2, 8]]])"
      ]
     },
     "execution_count": 25,
     "metadata": {},
     "output_type": "execute_result"
    }
   ],
   "source": [
    "#replace\n",
    "b[:,1,:]=[[0,0],[2,8]]\n",
    "b"
   ]
  },
  {
   "cell_type": "code",
   "execution_count": null,
   "id": "a07f7b40",
   "metadata": {},
   "outputs": [],
   "source": []
  },
  {
   "cell_type": "code",
   "execution_count": null,
   "id": "7518818b",
   "metadata": {},
   "outputs": [],
   "source": []
  },
  {
   "cell_type": "code",
   "execution_count": null,
   "id": "74316cdb",
   "metadata": {},
   "outputs": [],
   "source": []
  },
  {
   "cell_type": "code",
   "execution_count": null,
   "id": "84977cc4",
   "metadata": {},
   "outputs": [],
   "source": []
  },
  {
   "cell_type": "markdown",
   "id": "03ded5ac",
   "metadata": {},
   "source": [
    "# initializing diff types of arrays"
   ]
  },
  {
   "cell_type": "code",
   "execution_count": 26,
   "id": "41ca938c",
   "metadata": {},
   "outputs": [
    {
     "data": {
      "text/plain": [
       "array([0., 0., 0., 0., 0.])"
      ]
     },
     "execution_count": 26,
     "metadata": {},
     "output_type": "execute_result"
    }
   ],
   "source": [
    "#all 0s matrix\n",
    "np.zeros(5)"
   ]
  },
  {
   "cell_type": "code",
   "execution_count": 27,
   "id": "05ddab94",
   "metadata": {},
   "outputs": [
    {
     "data": {
      "text/plain": [
       "array([[0., 0., 0.],\n",
       "       [0., 0., 0.]])"
      ]
     },
     "execution_count": 27,
     "metadata": {},
     "output_type": "execute_result"
    }
   ],
   "source": [
    "np.zeros((2,3))"
   ]
  },
  {
   "cell_type": "code",
   "execution_count": 28,
   "id": "270f522d",
   "metadata": {},
   "outputs": [
    {
     "data": {
      "text/plain": [
       "array([[[0., 0., 0.],\n",
       "        [0., 0., 0.],\n",
       "        [0., 0., 0.]],\n",
       "\n",
       "       [[0., 0., 0.],\n",
       "        [0., 0., 0.],\n",
       "        [0., 0., 0.]]])"
      ]
     },
     "execution_count": 28,
     "metadata": {},
     "output_type": "execute_result"
    }
   ],
   "source": [
    "np.zeros((2,3,3))"
   ]
  },
  {
   "cell_type": "code",
   "execution_count": 29,
   "id": "22c1f6c2",
   "metadata": {},
   "outputs": [
    {
     "data": {
      "text/plain": [
       "array([[[[0., 0.],\n",
       "         [0., 0.],\n",
       "         [0., 0.]],\n",
       "\n",
       "        [[0., 0.],\n",
       "         [0., 0.],\n",
       "         [0., 0.]],\n",
       "\n",
       "        [[0., 0.],\n",
       "         [0., 0.],\n",
       "         [0., 0.]]],\n",
       "\n",
       "\n",
       "       [[[0., 0.],\n",
       "         [0., 0.],\n",
       "         [0., 0.]],\n",
       "\n",
       "        [[0., 0.],\n",
       "         [0., 0.],\n",
       "         [0., 0.]],\n",
       "\n",
       "        [[0., 0.],\n",
       "         [0., 0.],\n",
       "         [0., 0.]]]])"
      ]
     },
     "execution_count": 29,
     "metadata": {},
     "output_type": "execute_result"
    }
   ],
   "source": [
    "np.zeros((2,3,3,2))"
   ]
  },
  {
   "cell_type": "code",
   "execution_count": 30,
   "id": "8843f3cf",
   "metadata": {},
   "outputs": [
    {
     "data": {
      "text/plain": [
       "array([[[1., 1.],\n",
       "        [1., 1.]],\n",
       "\n",
       "       [[1., 1.],\n",
       "        [1., 1.]],\n",
       "\n",
       "       [[1., 1.],\n",
       "        [1., 1.]],\n",
       "\n",
       "       [[1., 1.],\n",
       "        [1., 1.]]])"
      ]
     },
     "execution_count": 30,
     "metadata": {},
     "output_type": "execute_result"
    }
   ],
   "source": [
    "#all is matrix\n",
    "np.ones((4,2,2))"
   ]
  },
  {
   "cell_type": "code",
   "execution_count": 31,
   "id": "9ad17c9c",
   "metadata": {},
   "outputs": [
    {
     "data": {
      "text/plain": [
       "array([[[1, 1],\n",
       "        [1, 1]],\n",
       "\n",
       "       [[1, 1],\n",
       "        [1, 1]],\n",
       "\n",
       "       [[1, 1],\n",
       "        [1, 1]],\n",
       "\n",
       "       [[1, 1],\n",
       "        [1, 1]]])"
      ]
     },
     "execution_count": 31,
     "metadata": {},
     "output_type": "execute_result"
    }
   ],
   "source": [
    "np.ones((4,2,2),dtype='int32')"
   ]
  },
  {
   "cell_type": "code",
   "execution_count": 32,
   "id": "68f639bf",
   "metadata": {},
   "outputs": [
    {
     "data": {
      "text/plain": [
       "array([[99, 99],\n",
       "       [99, 99]])"
      ]
     },
     "execution_count": 32,
     "metadata": {},
     "output_type": "execute_result"
    }
   ],
   "source": [
    "#any other num\n",
    "np.full((2,2),99)"
   ]
  },
  {
   "cell_type": "code",
   "execution_count": 33,
   "id": "b581a57e",
   "metadata": {},
   "outputs": [
    {
     "data": {
      "text/plain": [
       "array([[99., 99.],\n",
       "       [99., 99.]], dtype=float32)"
      ]
     },
     "execution_count": 33,
     "metadata": {},
     "output_type": "execute_result"
    }
   ],
   "source": [
    "np.full((2,2),99,dtype='float32')"
   ]
  },
  {
   "cell_type": "code",
   "execution_count": 34,
   "id": "ffb362a5",
   "metadata": {},
   "outputs": [
    {
     "data": {
      "text/plain": [
       "array([[5, 5, 5, 5, 5, 5, 5],\n",
       "       [5, 5, 5, 5, 5, 5, 5]])"
      ]
     },
     "execution_count": 34,
     "metadata": {},
     "output_type": "execute_result"
    }
   ],
   "source": [
    "#any other num (full_like)\n",
    "np.full_like(a,5)"
   ]
  },
  {
   "cell_type": "code",
   "execution_count": null,
   "id": "c1dfdb21",
   "metadata": {},
   "outputs": [],
   "source": []
  },
  {
   "cell_type": "code",
   "execution_count": null,
   "id": "cf927149",
   "metadata": {},
   "outputs": [],
   "source": []
  },
  {
   "cell_type": "code",
   "execution_count": 35,
   "id": "15d59eb5",
   "metadata": {},
   "outputs": [
    {
     "data": {
      "text/plain": [
       "array([[0.77667972, 0.17323841],\n",
       "       [0.45552342, 0.53907666],\n",
       "       [0.91892063, 0.79123429],\n",
       "       [0.74282754, 0.09781729]])"
      ]
     },
     "execution_count": 35,
     "metadata": {},
     "output_type": "execute_result"
    }
   ],
   "source": [
    "#random decimal numbers\n",
    "np.random.rand(4,2)"
   ]
  },
  {
   "cell_type": "code",
   "execution_count": 36,
   "id": "b1e3660d",
   "metadata": {},
   "outputs": [
    {
     "data": {
      "text/plain": [
       "array([[[0.35861179, 0.29705648],\n",
       "        [0.8510909 , 0.40272147]],\n",
       "\n",
       "       [[0.47476527, 0.78621876],\n",
       "        [0.334794  , 0.98112287]],\n",
       "\n",
       "       [[0.79753545, 0.18202623],\n",
       "        [0.2203874 , 0.57022567]],\n",
       "\n",
       "       [[0.1734022 , 0.2499887 ],\n",
       "        [0.821867  , 0.39257174]]])"
      ]
     },
     "execution_count": 36,
     "metadata": {},
     "output_type": "execute_result"
    }
   ],
   "source": [
    "np.random.rand(4,2,2)"
   ]
  },
  {
   "cell_type": "code",
   "execution_count": 37,
   "id": "4cfaefc1",
   "metadata": {},
   "outputs": [
    {
     "data": {
      "text/plain": [
       "array([[0.583774  , 0.48821599, 0.9225157 , 0.59760826, 0.46747204,\n",
       "        0.85778049, 0.25285443],\n",
       "       [0.79788453, 0.11386364, 0.98955168, 0.33998006, 0.47204574,\n",
       "        0.76552932, 0.94755109]])"
      ]
     },
     "execution_count": 37,
     "metadata": {},
     "output_type": "execute_result"
    }
   ],
   "source": [
    "np.random.random_sample(a.shape)"
   ]
  },
  {
   "cell_type": "code",
   "execution_count": 38,
   "id": "41aaf29e",
   "metadata": {},
   "outputs": [
    {
     "data": {
      "text/plain": [
       "array([[5, 0, 6],\n",
       "       [4, 0, 4],\n",
       "       [1, 2, 0]])"
      ]
     },
     "execution_count": 38,
     "metadata": {},
     "output_type": "execute_result"
    }
   ],
   "source": [
    "#random integer values\n",
    "np.random.randint(7,size=(3,3))"
   ]
  },
  {
   "cell_type": "code",
   "execution_count": 39,
   "id": "632568e0",
   "metadata": {},
   "outputs": [
    {
     "data": {
      "text/plain": [
       "array([[6, 5, 4],\n",
       "       [3, 3, 6],\n",
       "       [6, 6, 5]])"
      ]
     },
     "execution_count": 39,
     "metadata": {},
     "output_type": "execute_result"
    }
   ],
   "source": [
    "np.random.randint(3,7,size=(3,3))"
   ]
  },
  {
   "cell_type": "code",
   "execution_count": 40,
   "id": "290d9c78",
   "metadata": {},
   "outputs": [
    {
     "data": {
      "text/plain": [
       "array([[-3,  1, -2],\n",
       "       [ 2, -2,  0],\n",
       "       [ 2,  6,  2]])"
      ]
     },
     "execution_count": 40,
     "metadata": {},
     "output_type": "execute_result"
    }
   ],
   "source": [
    "np.random.randint(-3,7,size=(3,3))"
   ]
  },
  {
   "cell_type": "code",
   "execution_count": 41,
   "id": "ee0ef01c",
   "metadata": {},
   "outputs": [
    {
     "data": {
      "text/plain": [
       "array([[1., 0., 0., 0., 0.],\n",
       "       [0., 1., 0., 0., 0.],\n",
       "       [0., 0., 1., 0., 0.],\n",
       "       [0., 0., 0., 1., 0.],\n",
       "       [0., 0., 0., 0., 1.]])"
      ]
     },
     "execution_count": 41,
     "metadata": {},
     "output_type": "execute_result"
    }
   ],
   "source": [
    "#the identity matrix\n",
    "np.identity(5)"
   ]
  },
  {
   "cell_type": "code",
   "execution_count": 42,
   "id": "f3f8893e",
   "metadata": {},
   "outputs": [
    {
     "data": {
      "text/plain": [
       "array([1, 1, 1, 2, 2, 2, 3, 3, 3])"
      ]
     },
     "execution_count": 42,
     "metadata": {},
     "output_type": "execute_result"
    }
   ],
   "source": [
    "#repeat an  array\n",
    "arr=np.array([1,2,3])\n",
    "r1=np.repeat(arr,3,axis=0)\n",
    "r1"
   ]
  },
  {
   "cell_type": "code",
   "execution_count": 43,
   "id": "c696b754",
   "metadata": {},
   "outputs": [
    {
     "data": {
      "text/plain": [
       "array([[1, 2, 3],\n",
       "       [1, 2, 3],\n",
       "       [1, 2, 3]])"
      ]
     },
     "execution_count": 43,
     "metadata": {},
     "output_type": "execute_result"
    }
   ],
   "source": [
    "arr=np.array([[1,2,3]])\n",
    "r1=np.repeat(arr,3,axis=0)\n",
    "r1"
   ]
  },
  {
   "cell_type": "markdown",
   "id": "9d465dfd",
   "metadata": {},
   "source": [
    "proplem #1"
   ]
  },
  {
   "cell_type": "code",
   "execution_count": 44,
   "id": "14b3d25d",
   "metadata": {},
   "outputs": [
    {
     "name": "stdout",
     "output_type": "stream",
     "text": [
      "[[1. 1. 1. 1. 1.]\n",
      " [1. 1. 1. 1. 1.]\n",
      " [1. 1. 1. 1. 1.]\n",
      " [1. 1. 1. 1. 1.]\n",
      " [1. 1. 1. 1. 1.]]\n",
      "[[0. 0. 0.]\n",
      " [0. 0. 0.]\n",
      " [0. 0. 0.]]\n",
      "[[0. 0. 0.]\n",
      " [0. 9. 0.]\n",
      " [0. 0. 0.]]\n",
      "[[1. 1. 1. 1. 1.]\n",
      " [1. 0. 0. 0. 1.]\n",
      " [1. 0. 9. 0. 1.]\n",
      " [1. 0. 0. 0. 1.]\n",
      " [1. 1. 1. 1. 1.]]\n"
     ]
    }
   ],
   "source": [
    "ones=np.ones((5,5))\n",
    "print(ones)\n",
    "\n",
    "zeros=np.zeros((3,3))\n",
    "print(zeros)\n",
    "zeros[1,1]=9\n",
    "print(zeros)\n",
    "ones[1:4,1:4]=zeros\n",
    "print(ones)"
   ]
  },
  {
   "cell_type": "markdown",
   "id": "8f49c65c",
   "metadata": {},
   "source": [
    "# be carefull when copyiny arrays"
   ]
  },
  {
   "cell_type": "code",
   "execution_count": 45,
   "id": "23035386",
   "metadata": {},
   "outputs": [
    {
     "name": "stdout",
     "output_type": "stream",
     "text": [
      "[2 3 5]\n",
      "[5 7 9]\n",
      "[466   3   5]\n",
      "____________\n",
      "[466   3   5]\n",
      "____________\n",
      "[1234    3    5]\n",
      "___________\n",
      "[466   3   5]\n"
     ]
    }
   ],
   "source": [
    "w=np.array([2,3,5])\n",
    "print(w)\n",
    "d=np.array([5,7,9])\n",
    "print(d)\n",
    "d=w\n",
    "d[0]=466\n",
    "print(d)\n",
    "print('____________')\n",
    "print(w)\n",
    "print('____________')\n",
    "\n",
    "\n",
    "d=w.copy()# use this comment while copying the arrays so it wont\n",
    "          # change the value in original array  \n",
    "d[0]=1234\n",
    "print(d)\n",
    "print('___________')\n",
    "print(w)"
   ]
  },
  {
   "cell_type": "markdown",
   "id": "d43274fa",
   "metadata": {},
   "source": [
    "# mathematics"
   ]
  },
  {
   "cell_type": "code",
   "execution_count": 46,
   "id": "4059e5bd",
   "metadata": {},
   "outputs": [
    {
     "name": "stdout",
     "output_type": "stream",
     "text": [
      "[1 2 3 4]\n"
     ]
    }
   ],
   "source": [
    "a=np.array([1,2,3,4])\n",
    "print(a)"
   ]
  },
  {
   "cell_type": "code",
   "execution_count": 47,
   "id": "4dbe5cd1",
   "metadata": {},
   "outputs": [
    {
     "data": {
      "text/plain": [
       "array([3, 4, 5, 6])"
      ]
     },
     "execution_count": 47,
     "metadata": {},
     "output_type": "execute_result"
    }
   ],
   "source": [
    "a+2"
   ]
  },
  {
   "cell_type": "code",
   "execution_count": 48,
   "id": "6aa3c6ca",
   "metadata": {},
   "outputs": [
    {
     "data": {
      "text/plain": [
       "array([-1,  0,  1,  2])"
      ]
     },
     "execution_count": 48,
     "metadata": {},
     "output_type": "execute_result"
    }
   ],
   "source": [
    "a-2"
   ]
  },
  {
   "cell_type": "code",
   "execution_count": 49,
   "id": "9824593d",
   "metadata": {},
   "outputs": [
    {
     "data": {
      "text/plain": [
       "array([2, 4, 6, 8])"
      ]
     },
     "execution_count": 49,
     "metadata": {},
     "output_type": "execute_result"
    }
   ],
   "source": [
    "a*2"
   ]
  },
  {
   "cell_type": "code",
   "execution_count": 50,
   "id": "028e2455",
   "metadata": {},
   "outputs": [
    {
     "data": {
      "text/plain": [
       "array([0.5, 1. , 1.5, 2. ])"
      ]
     },
     "execution_count": 50,
     "metadata": {},
     "output_type": "execute_result"
    }
   ],
   "source": [
    "a/2"
   ]
  },
  {
   "cell_type": "code",
   "execution_count": 51,
   "id": "43160d6f",
   "metadata": {},
   "outputs": [
    {
     "data": {
      "text/plain": [
       "array([ 1,  4,  9, 16], dtype=int32)"
      ]
     },
     "execution_count": 51,
     "metadata": {},
     "output_type": "execute_result"
    }
   ],
   "source": [
    "a**2"
   ]
  },
  {
   "cell_type": "code",
   "execution_count": 52,
   "id": "9f6e890b",
   "metadata": {},
   "outputs": [
    {
     "data": {
      "text/plain": [
       "array([2, 3, 4, 5])"
      ]
     },
     "execution_count": 52,
     "metadata": {},
     "output_type": "execute_result"
    }
   ],
   "source": [
    "b=np.array([1,1,1,1])\n",
    "a+b"
   ]
  },
  {
   "cell_type": "code",
   "execution_count": 53,
   "id": "faa67ed8",
   "metadata": {},
   "outputs": [
    {
     "data": {
      "text/plain": [
       "array([ 0.54030231, -0.41614684, -0.9899925 , -0.65364362])"
      ]
     },
     "execution_count": 53,
     "metadata": {},
     "output_type": "execute_result"
    }
   ],
   "source": [
    "#take the sin\n",
    "np.sin(a)\n",
    "np.cos(a)"
   ]
  },
  {
   "cell_type": "code",
   "execution_count": null,
   "id": "a9696ef9",
   "metadata": {},
   "outputs": [],
   "source": []
  },
  {
   "cell_type": "code",
   "execution_count": 54,
   "id": "893f327b",
   "metadata": {},
   "outputs": [],
   "source": [
    "# For a lot more (https://docs.scipy.org/doc/numpy/reference/routines.math.html)"
   ]
  },
  {
   "cell_type": "code",
   "execution_count": null,
   "id": "4bdd8f5a",
   "metadata": {},
   "outputs": [],
   "source": []
  },
  {
   "cell_type": "markdown",
   "id": "7e775cb1",
   "metadata": {},
   "source": [
    "# linear algebra"
   ]
  },
  {
   "cell_type": "code",
   "execution_count": 55,
   "id": "34ef241b",
   "metadata": {},
   "outputs": [
    {
     "data": {
      "text/plain": [
       "array([[1., 1., 1.],\n",
       "       [1., 1., 1.]])"
      ]
     },
     "execution_count": 55,
     "metadata": {},
     "output_type": "execute_result"
    }
   ],
   "source": [
    "a=np.ones((2,3))\n",
    "a"
   ]
  },
  {
   "cell_type": "code",
   "execution_count": 56,
   "id": "80b0182e",
   "metadata": {},
   "outputs": [
    {
     "data": {
      "text/plain": [
       "array([[2, 2],\n",
       "       [2, 2],\n",
       "       [2, 2]])"
      ]
     },
     "execution_count": 56,
     "metadata": {},
     "output_type": "execute_result"
    }
   ],
   "source": [
    "b=np.full((3,2),2)\n",
    "b"
   ]
  },
  {
   "cell_type": "code",
   "execution_count": 57,
   "id": "68143a2e",
   "metadata": {},
   "outputs": [
    {
     "data": {
      "text/plain": [
       "array([[6., 6.],\n",
       "       [6., 6.]])"
      ]
     },
     "execution_count": 57,
     "metadata": {},
     "output_type": "execute_result"
    }
   ],
   "source": [
    "np.matmul(a,b)"
   ]
  },
  {
   "cell_type": "code",
   "execution_count": 58,
   "id": "79865d41",
   "metadata": {},
   "outputs": [
    {
     "name": "stdout",
     "output_type": "stream",
     "text": [
      "[[1. 0. 0.]\n",
      " [0. 1. 0.]\n",
      " [0. 0. 1.]]\n"
     ]
    },
    {
     "data": {
      "text/plain": [
       "1.0"
      ]
     },
     "execution_count": 58,
     "metadata": {},
     "output_type": "execute_result"
    }
   ],
   "source": [
    "#find the determinant\n",
    "c=np.identity(3)\n",
    "print(c)\n",
    "np.linalg.det(c)"
   ]
  },
  {
   "cell_type": "code",
   "execution_count": 59,
   "id": "547d5cee",
   "metadata": {},
   "outputs": [
    {
     "data": {
      "text/plain": [
       "-4.999999999999999"
      ]
     },
     "execution_count": 59,
     "metadata": {},
     "output_type": "execute_result"
    }
   ],
   "source": [
    "n=np.array([[1,7,3],[1,2,3],[1,2,4]])\n",
    "np.linalg.det(n)"
   ]
  },
  {
   "cell_type": "code",
   "execution_count": null,
   "id": "adefd1f6",
   "metadata": {},
   "outputs": [],
   "source": []
  },
  {
   "cell_type": "code",
   "execution_count": 60,
   "id": "4a9870f2",
   "metadata": {},
   "outputs": [],
   "source": [
    "## Reference docs (https://docs.scipy.org/doc/numpy/reference/routines.linalg.html)\n",
    "\n",
    "# Determinant\n",
    "# Trace\n",
    "# Singular Vector Decomposition\n",
    "# Eigenvalues\n",
    "# Matrix Norm\n",
    "# Inverse\n",
    "# Etc..."
   ]
  },
  {
   "cell_type": "code",
   "execution_count": null,
   "id": "0513da95",
   "metadata": {},
   "outputs": [],
   "source": []
  },
  {
   "cell_type": "markdown",
   "id": "b77335c8",
   "metadata": {},
   "source": [
    "# statistics"
   ]
  },
  {
   "cell_type": "code",
   "execution_count": 61,
   "id": "7bb64c0a",
   "metadata": {},
   "outputs": [
    {
     "data": {
      "text/plain": [
       "array([[2, 3, 1],\n",
       "       [1, 5, 6]])"
      ]
     },
     "execution_count": 61,
     "metadata": {},
     "output_type": "execute_result"
    }
   ],
   "source": [
    "stats=np.array([[2,3,1],[1,5,6]])\n",
    "stats"
   ]
  },
  {
   "cell_type": "code",
   "execution_count": 62,
   "id": "fe317a6e",
   "metadata": {},
   "outputs": [
    {
     "data": {
      "text/plain": [
       "1"
      ]
     },
     "execution_count": 62,
     "metadata": {},
     "output_type": "execute_result"
    }
   ],
   "source": [
    "np.min(stats)"
   ]
  },
  {
   "cell_type": "code",
   "execution_count": 63,
   "id": "4360d30a",
   "metadata": {},
   "outputs": [
    {
     "data": {
      "text/plain": [
       "array([1, 1])"
      ]
     },
     "execution_count": 63,
     "metadata": {},
     "output_type": "execute_result"
    }
   ],
   "source": [
    "np.min(stats,axis=1) #axis command gives the min of the first row and second row\n",
    "                     #axis=1(rows)  axis=(0)columns"
   ]
  },
  {
   "cell_type": "code",
   "execution_count": 64,
   "id": "faf97da1",
   "metadata": {},
   "outputs": [
    {
     "data": {
      "text/plain": [
       "array([1, 3, 1])"
      ]
     },
     "execution_count": 64,
     "metadata": {},
     "output_type": "execute_result"
    }
   ],
   "source": [
    "np.min(stats,axis=0)"
   ]
  },
  {
   "cell_type": "code",
   "execution_count": 65,
   "id": "49e76df3",
   "metadata": {},
   "outputs": [
    {
     "data": {
      "text/plain": [
       "6"
      ]
     },
     "execution_count": 65,
     "metadata": {},
     "output_type": "execute_result"
    }
   ],
   "source": [
    "np.max(stats)"
   ]
  },
  {
   "cell_type": "code",
   "execution_count": 66,
   "id": "31f093b1",
   "metadata": {},
   "outputs": [
    {
     "data": {
      "text/plain": [
       "array([3, 6])"
      ]
     },
     "execution_count": 66,
     "metadata": {},
     "output_type": "execute_result"
    }
   ],
   "source": [
    "np.max(stats,axis=1)"
   ]
  },
  {
   "cell_type": "code",
   "execution_count": 67,
   "id": "c5f6f170",
   "metadata": {},
   "outputs": [
    {
     "data": {
      "text/plain": [
       "array([2, 5, 6])"
      ]
     },
     "execution_count": 67,
     "metadata": {},
     "output_type": "execute_result"
    }
   ],
   "source": [
    "np.max(stats,axis=0)"
   ]
  },
  {
   "cell_type": "code",
   "execution_count": 68,
   "id": "0e289f0b",
   "metadata": {},
   "outputs": [
    {
     "data": {
      "text/plain": [
       "18"
      ]
     },
     "execution_count": 68,
     "metadata": {},
     "output_type": "execute_result"
    }
   ],
   "source": [
    "np.sum(stats)"
   ]
  },
  {
   "cell_type": "code",
   "execution_count": 69,
   "id": "887a0fdc",
   "metadata": {},
   "outputs": [
    {
     "data": {
      "text/plain": [
       "array([ 6, 12])"
      ]
     },
     "execution_count": 69,
     "metadata": {},
     "output_type": "execute_result"
    }
   ],
   "source": [
    "np.sum(stats,axis=1)"
   ]
  },
  {
   "cell_type": "code",
   "execution_count": 70,
   "id": "b945a6ea",
   "metadata": {},
   "outputs": [
    {
     "data": {
      "text/plain": [
       "array([3, 8, 7])"
      ]
     },
     "execution_count": 70,
     "metadata": {},
     "output_type": "execute_result"
    }
   ],
   "source": [
    "np.sum(stats,axis=0)"
   ]
  },
  {
   "cell_type": "code",
   "execution_count": null,
   "id": "ed2a45b7",
   "metadata": {},
   "outputs": [],
   "source": []
  },
  {
   "cell_type": "markdown",
   "id": "f7d359bc",
   "metadata": {},
   "source": [
    "# reorganizing arrays"
   ]
  },
  {
   "cell_type": "code",
   "execution_count": 71,
   "id": "6f7e2adb",
   "metadata": {},
   "outputs": [
    {
     "name": "stdout",
     "output_type": "stream",
     "text": [
      "[[1 2 3 4]\n",
      " [5 6 7 8]]\n",
      "--------\n",
      "(2, 4)\n",
      "--------\n",
      "[[1 2]\n",
      " [3 4]\n",
      " [5 6]\n",
      " [7 8]]\n"
     ]
    }
   ],
   "source": [
    "before=np.array([[1,2,3,4],[5,6,7,8]])\n",
    "print(before)\n",
    "print('--------')\n",
    "print(before.shape)\n",
    "print('--------')\n",
    "\n",
    "after=before.reshape((4,2))\n",
    "print(after)"
   ]
  },
  {
   "cell_type": "code",
   "execution_count": 72,
   "id": "89b4f817",
   "metadata": {},
   "outputs": [
    {
     "data": {
      "text/plain": [
       "array([[1, 2, 3, 4],\n",
       "       [5, 6, 7, 8],\n",
       "       [5, 6, 7, 8],\n",
       "       [5, 6, 7, 8]])"
      ]
     },
     "execution_count": 72,
     "metadata": {},
     "output_type": "execute_result"
    }
   ],
   "source": [
    "#vertically stacking vectors\n",
    "v1=np.array([1,2,3,4])\n",
    "v2=np.array([5,6,7,8])\n",
    "\n",
    "np.vstack([v1,v2])\n",
    "np.vstack([v1,v2,v2,v2])\n"
   ]
  },
  {
   "cell_type": "code",
   "execution_count": 73,
   "id": "1f2132e2",
   "metadata": {},
   "outputs": [],
   "source": [
    "#horizontal stack"
   ]
  },
  {
   "cell_type": "code",
   "execution_count": 74,
   "id": "f796fb61",
   "metadata": {},
   "outputs": [
    {
     "name": "stdout",
     "output_type": "stream",
     "text": [
      "[[1. 1. 1. 1.]\n",
      " [1. 1. 1. 1.]]\n",
      "----------\n",
      "[[0. 0.]\n",
      " [0. 0.]]\n",
      "---------\n"
     ]
    },
    {
     "data": {
      "text/plain": [
       "array([[1., 1., 1., 1., 0., 0.],\n",
       "       [1., 1., 1., 1., 0., 0.]])"
      ]
     },
     "execution_count": 74,
     "metadata": {},
     "output_type": "execute_result"
    }
   ],
   "source": [
    "h1=np.ones((2,4))\n",
    "print(h1)\n",
    "print('----------')\n",
    "h2=np.zeros((2,2))\n",
    "print(h2)\n",
    "print('---------')\n",
    "\n",
    "np.hstack([h1,h2])"
   ]
  },
  {
   "cell_type": "code",
   "execution_count": null,
   "id": "b566590d",
   "metadata": {},
   "outputs": [],
   "source": []
  },
  {
   "cell_type": "markdown",
   "id": "3ab4c9dc",
   "metadata": {},
   "source": [
    "# miscellaneous\n",
    "   load data from file"
   ]
  },
  {
   "cell_type": "code",
   "execution_count": 75,
   "id": "85551b8b",
   "metadata": {},
   "outputs": [
    {
     "data": {
      "text/plain": [
       "array([[  1,  13,  21,  11, 196,  75,   4,   3,  34,   6,   7,   8,   0,\n",
       "          1,   2,   3,   4,   5],\n",
       "       [  3,  42,  12,  33, 766,  75,   4,  55,   6,   4,   3,   4,   5,\n",
       "          6,   7,   0,  11,  12],\n",
       "       [  1,  22,  33,  11, 999,  11,   2,   1,  78,   0,   1,   2,   9,\n",
       "          8,   7,   1,  76,  88]])"
      ]
     },
     "execution_count": 75,
     "metadata": {},
     "output_type": "execute_result"
    }
   ],
   "source": [
    "fd= np.genfromtxt('data.txt',delimiter=',')\n",
    "fd1=fd.astype('int32')\n",
    "fd1"
   ]
  },
  {
   "cell_type": "code",
   "execution_count": null,
   "id": "86b9b100",
   "metadata": {},
   "outputs": [],
   "source": []
  },
  {
   "cell_type": "markdown",
   "id": "4fd166ce",
   "metadata": {},
   "source": [
    "# boolean masking and advanced indexing"
   ]
  },
  {
   "cell_type": "code",
   "execution_count": 76,
   "id": "0278ba8d",
   "metadata": {},
   "outputs": [
    {
     "data": {
      "text/plain": [
       "array([[False, False,  True, False,  True,  True, False, False,  True,\n",
       "        False, False, False, False, False, False, False, False, False],\n",
       "       [False,  True, False,  True,  True,  True, False,  True, False,\n",
       "        False, False, False, False, False, False, False, False, False],\n",
       "       [False,  True,  True, False,  True, False, False, False,  True,\n",
       "        False, False, False, False, False, False, False,  True,  True]])"
      ]
     },
     "execution_count": 76,
     "metadata": {},
     "output_type": "execute_result"
    }
   ],
   "source": [
    "fd1>15"
   ]
  },
  {
   "cell_type": "code",
   "execution_count": 77,
   "id": "ba2cfabc",
   "metadata": {},
   "outputs": [
    {
     "data": {
      "text/plain": [
       "array([196,  75,  42, 766,  75,  55, 999,  78,  76,  88])"
      ]
     },
     "execution_count": 77,
     "metadata": {},
     "output_type": "execute_result"
    }
   ],
   "source": [
    "fd1[fd1>40]"
   ]
  },
  {
   "cell_type": "code",
   "execution_count": 78,
   "id": "f74ff231",
   "metadata": {},
   "outputs": [
    {
     "data": {
      "text/plain": [
       "array([2, 3, 4])"
      ]
     },
     "execution_count": 78,
     "metadata": {},
     "output_type": "execute_result"
    }
   ],
   "source": [
    "#you can index with a list in numpy\n",
    "a=np.array([1,2,3,4,5,6,7,8,9])\n",
    "a[[1,2,3]]"
   ]
  },
  {
   "cell_type": "code",
   "execution_count": 79,
   "id": "36371374",
   "metadata": {},
   "outputs": [
    {
     "data": {
      "text/plain": [
       "array([False, False, False, False,  True,  True, False,  True,  True,\n",
       "       False, False, False, False, False, False, False,  True,  True])"
      ]
     },
     "execution_count": 79,
     "metadata": {},
     "output_type": "execute_result"
    }
   ],
   "source": [
    "np.any(fd1>50,axis=0)"
   ]
  },
  {
   "cell_type": "code",
   "execution_count": 80,
   "id": "9a40fcd3",
   "metadata": {},
   "outputs": [
    {
     "data": {
      "text/plain": [
       "array([False, False, False, False,  True, False, False, False, False,\n",
       "       False, False, False, False, False, False, False, False, False])"
      ]
     },
     "execution_count": 80,
     "metadata": {},
     "output_type": "execute_result"
    }
   ],
   "source": [
    "np.all(fd1>50,axis=0)"
   ]
  },
  {
   "cell_type": "code",
   "execution_count": 81,
   "id": "0fb43935",
   "metadata": {},
   "outputs": [
    {
     "data": {
      "text/plain": [
       "array([False, False, False])"
      ]
     },
     "execution_count": 81,
     "metadata": {},
     "output_type": "execute_result"
    }
   ],
   "source": [
    "np.all(fd1>50,axis=1)"
   ]
  },
  {
   "cell_type": "code",
   "execution_count": 82,
   "id": "71c28c6e",
   "metadata": {},
   "outputs": [
    {
     "data": {
      "text/plain": [
       "array([[False, False, False, False, False,  True, False, False, False,\n",
       "        False, False, False, False, False, False, False, False, False],\n",
       "       [False, False, False, False, False,  True, False,  True, False,\n",
       "        False, False, False, False, False, False, False, False, False],\n",
       "       [False, False, False, False, False, False, False, False,  True,\n",
       "        False, False, False, False, False, False, False,  True,  True]])"
      ]
     },
     "execution_count": 82,
     "metadata": {},
     "output_type": "execute_result"
    }
   ],
   "source": [
    "((fd1>50 )&( fd1<100))"
   ]
  },
  {
   "cell_type": "code",
   "execution_count": 83,
   "id": "754cd836",
   "metadata": {},
   "outputs": [
    {
     "data": {
      "text/plain": [
       "array([[ True,  True,  True,  True, False, False,  True,  True,  True,\n",
       "         True,  True,  True,  True,  True,  True,  True,  True,  True],\n",
       "       [ True,  True,  True,  True, False, False,  True, False,  True,\n",
       "         True,  True,  True,  True,  True,  True,  True,  True,  True],\n",
       "       [ True,  True,  True,  True, False,  True,  True,  True, False,\n",
       "         True,  True,  True,  True,  True,  True,  True, False, False]])"
      ]
     },
     "execution_count": 83,
     "metadata": {},
     "output_type": "execute_result"
    }
   ],
   "source": [
    "(~(fd1>50 )&( fd1<100))"
   ]
  },
  {
   "cell_type": "code",
   "execution_count": null,
   "id": "69be5c36",
   "metadata": {},
   "outputs": [],
   "source": []
  },
  {
   "cell_type": "code",
   "execution_count": 84,
   "id": "08e6d8cb",
   "metadata": {},
   "outputs": [
    {
     "name": "stdout",
     "output_type": "stream",
     "text": [
      "[[ 1  2  3  4  5]\n",
      " [ 6  7  8  9 10]\n",
      " [11 12 13 14 15]\n",
      " [16 17 18 19 20]\n",
      " [21 22 23 24 25]]\n"
     ]
    }
   ],
   "source": [
    "#problem2\n",
    "y=np.array([[1,2,3,4,5],[6,7,8,9,10],[11,12,13,14,15],[16,17,18,19,20],[21,22,23,24,25]])\n",
    "print(y)"
   ]
  },
  {
   "cell_type": "code",
   "execution_count": 85,
   "id": "748647e4",
   "metadata": {},
   "outputs": [
    {
     "data": {
      "text/plain": [
       "array([[11, 12],\n",
       "       [16, 17]])"
      ]
     },
     "execution_count": 85,
     "metadata": {},
     "output_type": "execute_result"
    }
   ],
   "source": [
    "y[2:4,0:2]"
   ]
  },
  {
   "cell_type": "code",
   "execution_count": 86,
   "id": "48f34364",
   "metadata": {},
   "outputs": [
    {
     "data": {
      "text/plain": [
       "array([ 1,  7, 13, 19, 25])"
      ]
     },
     "execution_count": 86,
     "metadata": {},
     "output_type": "execute_result"
    }
   ],
   "source": [
    "y[[0,1,2,3,4],[0,1,2,3,4]]"
   ]
  },
  {
   "cell_type": "code",
   "execution_count": 87,
   "id": "baad0e70",
   "metadata": {},
   "outputs": [
    {
     "data": {
      "text/plain": [
       "array([[ 7,  8,  9],\n",
       "       [12, 13, 14],\n",
       "       [17, 18, 19]])"
      ]
     },
     "execution_count": 87,
     "metadata": {},
     "output_type": "execute_result"
    }
   ],
   "source": [
    "y[1:4,1:4]"
   ]
  },
  {
   "cell_type": "code",
   "execution_count": 88,
   "id": "3dc8a303",
   "metadata": {},
   "outputs": [
    {
     "data": {
      "text/plain": [
       "array([[ 4,  5],\n",
       "       [19, 20],\n",
       "       [24, 25]])"
      ]
     },
     "execution_count": 88,
     "metadata": {},
     "output_type": "execute_result"
    }
   ],
   "source": [
    "y[[0,3,4],3:]"
   ]
  },
  {
   "cell_type": "code",
   "execution_count": null,
   "id": "490aa1ab",
   "metadata": {},
   "outputs": [],
   "source": []
  },
  {
   "cell_type": "code",
   "execution_count": null,
   "id": "acf76eeb",
   "metadata": {},
   "outputs": [],
   "source": []
  },
  {
   "cell_type": "code",
   "execution_count": null,
   "id": "d8a29ffb",
   "metadata": {},
   "outputs": [],
   "source": []
  },
  {
   "cell_type": "code",
   "execution_count": null,
   "id": "b7437532",
   "metadata": {},
   "outputs": [],
   "source": []
  },
  {
   "cell_type": "code",
   "execution_count": null,
   "id": "f76a8888",
   "metadata": {},
   "outputs": [],
   "source": []
  },
  {
   "cell_type": "code",
   "execution_count": null,
   "id": "495c7110",
   "metadata": {},
   "outputs": [],
   "source": []
  },
  {
   "cell_type": "code",
   "execution_count": null,
   "id": "714db105",
   "metadata": {},
   "outputs": [],
   "source": []
  },
  {
   "cell_type": "markdown",
   "id": "283127d0",
   "metadata": {},
   "source": [
    "# code basics"
   ]
  },
  {
   "cell_type": "code",
   "execution_count": 89,
   "id": "623a4068",
   "metadata": {},
   "outputs": [
    {
     "data": {
      "text/plain": [
       "array([1, 5])"
      ]
     },
     "execution_count": 89,
     "metadata": {},
     "output_type": "execute_result"
    }
   ],
   "source": [
    "np.array((1,5))"
   ]
  },
  {
   "cell_type": "code",
   "execution_count": 90,
   "id": "7bb3b788",
   "metadata": {},
   "outputs": [
    {
     "data": {
      "text/plain": [
       "array([1, 2, 3, 4])"
      ]
     },
     "execution_count": 90,
     "metadata": {},
     "output_type": "execute_result"
    }
   ],
   "source": [
    "np.arange(1,5)"
   ]
  },
  {
   "cell_type": "code",
   "execution_count": 91,
   "id": "32eea77c",
   "metadata": {},
   "outputs": [
    {
     "data": {
      "text/plain": [
       "array([1, 3])"
      ]
     },
     "execution_count": 91,
     "metadata": {},
     "output_type": "execute_result"
    }
   ],
   "source": [
    "np.arange(1,5,2)"
   ]
  },
  {
   "cell_type": "code",
   "execution_count": 92,
   "id": "698421d5",
   "metadata": {},
   "outputs": [
    {
     "data": {
      "text/plain": [
       "array([1.        , 1.44444444, 1.88888889, 2.33333333, 2.77777778,\n",
       "       3.22222222, 3.66666667, 4.11111111, 4.55555556, 5.        ])"
      ]
     },
     "execution_count": 92,
     "metadata": {},
     "output_type": "execute_result"
    }
   ],
   "source": [
    "np.linspace(1,5,10)"
   ]
  },
  {
   "cell_type": "code",
   "execution_count": 93,
   "id": "2afaa34a",
   "metadata": {},
   "outputs": [
    {
     "data": {
      "text/plain": [
       "array([1.        , 1.08163265, 1.16326531, 1.24489796, 1.32653061,\n",
       "       1.40816327, 1.48979592, 1.57142857, 1.65306122, 1.73469388,\n",
       "       1.81632653, 1.89795918, 1.97959184, 2.06122449, 2.14285714,\n",
       "       2.2244898 , 2.30612245, 2.3877551 , 2.46938776, 2.55102041,\n",
       "       2.63265306, 2.71428571, 2.79591837, 2.87755102, 2.95918367,\n",
       "       3.04081633, 3.12244898, 3.20408163, 3.28571429, 3.36734694,\n",
       "       3.44897959, 3.53061224, 3.6122449 , 3.69387755, 3.7755102 ,\n",
       "       3.85714286, 3.93877551, 4.02040816, 4.10204082, 4.18367347,\n",
       "       4.26530612, 4.34693878, 4.42857143, 4.51020408, 4.59183673,\n",
       "       4.67346939, 4.75510204, 4.83673469, 4.91836735, 5.        ])"
      ]
     },
     "execution_count": 93,
     "metadata": {},
     "output_type": "execute_result"
    }
   ],
   "source": [
    "np.linspace(1,5)"
   ]
  },
  {
   "cell_type": "code",
   "execution_count": 94,
   "id": "33015095",
   "metadata": {},
   "outputs": [
    {
     "data": {
      "text/plain": [
       "array([1, 2, 3, 4])"
      ]
     },
     "execution_count": 94,
     "metadata": {},
     "output_type": "execute_result"
    }
   ],
   "source": [
    "d=np.arange(1,5)\n",
    "d"
   ]
  },
  {
   "cell_type": "code",
   "execution_count": 95,
   "id": "58bd3baa",
   "metadata": {},
   "outputs": [
    {
     "data": {
      "text/plain": [
       "array([[1],\n",
       "       [2],\n",
       "       [3],\n",
       "       [4]])"
      ]
     },
     "execution_count": 95,
     "metadata": {},
     "output_type": "execute_result"
    }
   ],
   "source": [
    "d.reshape(4,1)"
   ]
  },
  {
   "cell_type": "code",
   "execution_count": 96,
   "id": "77d469f2",
   "metadata": {},
   "outputs": [
    {
     "data": {
      "text/plain": [
       "array([1, 2, 3, 4])"
      ]
     },
     "execution_count": 96,
     "metadata": {},
     "output_type": "execute_result"
    }
   ],
   "source": [
    "d.ravel()"
   ]
  },
  {
   "cell_type": "code",
   "execution_count": 97,
   "id": "e35f184b",
   "metadata": {},
   "outputs": [
    {
     "data": {
      "text/plain": [
       "array([1, 2, 3, 4])"
      ]
     },
     "execution_count": 97,
     "metadata": {},
     "output_type": "execute_result"
    }
   ],
   "source": [
    "d"
   ]
  },
  {
   "cell_type": "code",
   "execution_count": 98,
   "id": "9c362c76",
   "metadata": {},
   "outputs": [
    {
     "data": {
      "text/plain": [
       "array([1.        , 1.41421356, 1.73205081, 2.        ])"
      ]
     },
     "execution_count": 98,
     "metadata": {},
     "output_type": "execute_result"
    }
   ],
   "source": [
    "np.sqrt(d)"
   ]
  },
  {
   "cell_type": "code",
   "execution_count": 99,
   "id": "d7d44f56",
   "metadata": {},
   "outputs": [
    {
     "data": {
      "text/plain": [
       "1.118033988749895"
      ]
     },
     "execution_count": 99,
     "metadata": {},
     "output_type": "execute_result"
    }
   ],
   "source": [
    "np.std(d)"
   ]
  },
  {
   "cell_type": "code",
   "execution_count": 100,
   "id": "cbe0ae6b",
   "metadata": {},
   "outputs": [
    {
     "name": "stdout",
     "output_type": "stream",
     "text": [
      "[[2 3]\n",
      " [2 3]]\n",
      "[[4 6]\n",
      " [3 8]]\n"
     ]
    },
    {
     "data": {
      "text/plain": [
       "array([[17, 36],\n",
       "       [17, 36]])"
      ]
     },
     "execution_count": 100,
     "metadata": {},
     "output_type": "execute_result"
    }
   ],
   "source": [
    "a=np.array([[2,3],[2,3]])\n",
    "print(a)\n",
    "b=np.array([[4,6],[3,8]])\n",
    "print(b)\n",
    "a.dot(b)"
   ]
  },
  {
   "cell_type": "code",
   "execution_count": 101,
   "id": "68d5d40b",
   "metadata": {},
   "outputs": [
    {
     "data": {
      "text/plain": [
       "array([[1, 2, 3],\n",
       "       [2, 5, 6],\n",
       "       [5, 3, 9]])"
      ]
     },
     "execution_count": 101,
     "metadata": {},
     "output_type": "execute_result"
    }
   ],
   "source": [
    "s=np.array([[1,2,3],[2,5,6],[5,3,9]])\n",
    "s"
   ]
  },
  {
   "cell_type": "code",
   "execution_count": 102,
   "id": "17a1cfd5",
   "metadata": {},
   "outputs": [
    {
     "name": "stdout",
     "output_type": "stream",
     "text": [
      "[1 2 3]\n",
      "[2 5 6]\n",
      "[5 3 9]\n"
     ]
    }
   ],
   "source": [
    "for i in s:\n",
    "    print(i)"
   ]
  },
  {
   "cell_type": "code",
   "execution_count": 103,
   "id": "9171f329",
   "metadata": {},
   "outputs": [
    {
     "name": "stdout",
     "output_type": "stream",
     "text": [
      "1\n",
      "2\n",
      "3\n",
      "2\n",
      "5\n",
      "6\n",
      "5\n",
      "3\n",
      "9\n"
     ]
    }
   ],
   "source": [
    "for i in s.flat:\n",
    "    print(i)    "
   ]
  },
  {
   "cell_type": "code",
   "execution_count": 104,
   "id": "d1ccb8b0",
   "metadata": {},
   "outputs": [
    {
     "name": "stdout",
     "output_type": "stream",
     "text": [
      "1\n",
      "2\n",
      "3\n",
      "2\n",
      "5\n",
      "6\n",
      "5\n",
      "3\n",
      "9\n"
     ]
    }
   ],
   "source": [
    "#read row by row\n",
    "for i in np.nditer(s,order='c'):\n",
    "    print(i)"
   ]
  },
  {
   "cell_type": "code",
   "execution_count": 105,
   "id": "4e85d80d",
   "metadata": {},
   "outputs": [
    {
     "name": "stdout",
     "output_type": "stream",
     "text": [
      "1\n",
      "2\n",
      "5\n",
      "2\n",
      "5\n",
      "3\n",
      "3\n",
      "6\n",
      "9\n"
     ]
    }
   ],
   "source": [
    "#read column by column\n",
    "for i in np.nditer(s,order='f'):\n",
    "    print(i)"
   ]
  },
  {
   "cell_type": "code",
   "execution_count": 106,
   "id": "c2a32c04",
   "metadata": {},
   "outputs": [
    {
     "name": "stdout",
     "output_type": "stream",
     "text": [
      "[1 2 5]\n",
      "[2 5 3]\n",
      "[3 6 9]\n"
     ]
    }
   ],
   "source": [
    "for i in np.nditer(s,order='f',flags=['external_loop']):\n",
    "    print(i)"
   ]
  },
  {
   "cell_type": "code",
   "execution_count": 107,
   "id": "9ef29132",
   "metadata": {},
   "outputs": [
    {
     "data": {
      "text/plain": [
       "array([[          1,           0,  1995565057],\n",
       "       [          0,   -59967487,           0],\n",
       "       [  -59967487,  1995565057, -1876701183]])"
      ]
     },
     "execution_count": 107,
     "metadata": {},
     "output_type": "execute_result"
    }
   ],
   "source": [
    "for i in np.nditer(s,op_flags=['readwrite']):\n",
    "    s[...]=s*s\n",
    "s"
   ]
  },
  {
   "cell_type": "code",
   "execution_count": 108,
   "id": "ffb754ea",
   "metadata": {},
   "outputs": [
    {
     "name": "stdout",
     "output_type": "stream",
     "text": [
      "[[0 1]\n",
      " [2 3]\n",
      " [4 5]\n",
      " [6 7]]\n",
      "[[ 6  7]\n",
      " [ 8  9]\n",
      " [10 11]\n",
      " [12 13]]\n",
      "[[ 3]\n",
      " [ 7]\n",
      " [11]]\n"
     ]
    }
   ],
   "source": [
    "t1=np.arange(8).reshape(4,2)\n",
    "print(t1)\n",
    "t2=np.arange(6,14).reshape(4,2)\n",
    "print(t2)\n",
    "t3=np.arange(3,15,4).reshape(3,1)\n",
    "print(t3)"
   ]
  },
  {
   "cell_type": "code",
   "execution_count": 109,
   "id": "9e3b9a93",
   "metadata": {},
   "outputs": [
    {
     "name": "stdout",
     "output_type": "stream",
     "text": [
      "0 6\n",
      "1 7\n",
      "2 8\n",
      "3 9\n",
      "4 10\n",
      "5 11\n",
      "6 12\n",
      "7 13\n"
     ]
    }
   ],
   "source": [
    "for x,y in np.nditer([t1,t2]):\n",
    "    print(x,y)"
   ]
  },
  {
   "cell_type": "code",
   "execution_count": 110,
   "id": "20ecbf8b",
   "metadata": {},
   "outputs": [
    {
     "data": {
      "text/plain": [
       "array([[ 0,  1],\n",
       "       [ 2,  3],\n",
       "       [ 4,  5],\n",
       "       [ 6,  7],\n",
       "       [ 6,  7],\n",
       "       [ 8,  9],\n",
       "       [10, 11],\n",
       "       [12, 13]])"
      ]
     },
     "execution_count": 110,
     "metadata": {},
     "output_type": "execute_result"
    }
   ],
   "source": [
    "np.vstack((t1,t2))"
   ]
  },
  {
   "cell_type": "code",
   "execution_count": 111,
   "id": "bd588e34",
   "metadata": {},
   "outputs": [
    {
     "data": {
      "text/plain": [
       "array([[ 0,  1,  6,  7],\n",
       "       [ 2,  3,  8,  9],\n",
       "       [ 4,  5, 10, 11],\n",
       "       [ 6,  7, 12, 13]])"
      ]
     },
     "execution_count": 111,
     "metadata": {},
     "output_type": "execute_result"
    }
   ],
   "source": [
    "np.hstack((t1,t2))"
   ]
  },
  {
   "cell_type": "code",
   "execution_count": 112,
   "id": "71bfb0fe",
   "metadata": {},
   "outputs": [
    {
     "data": {
      "text/plain": [
       "array([[ 0,  1,  2,  3,  4,  5],\n",
       "       [ 6,  7,  8,  9, 10, 11],\n",
       "       [12, 13, 14, 15, 16, 17],\n",
       "       [18, 19, 20, 21, 22, 23],\n",
       "       [24, 25, 26, 27, 28, 29]])"
      ]
     },
     "execution_count": 112,
     "metadata": {},
     "output_type": "execute_result"
    }
   ],
   "source": [
    "a5=np.arange(0,30).reshape(5,6)\n",
    "a5"
   ]
  },
  {
   "cell_type": "code",
   "execution_count": 113,
   "id": "01ba7597",
   "metadata": {},
   "outputs": [
    {
     "data": {
      "text/plain": [
       "[array([[ 0,  1],\n",
       "        [ 6,  7],\n",
       "        [12, 13],\n",
       "        [18, 19],\n",
       "        [24, 25]]),\n",
       " array([[ 2,  3],\n",
       "        [ 8,  9],\n",
       "        [14, 15],\n",
       "        [20, 21],\n",
       "        [26, 27]]),\n",
       " array([[ 4,  5],\n",
       "        [10, 11],\n",
       "        [16, 17],\n",
       "        [22, 23],\n",
       "        [28, 29]])]"
      ]
     },
     "execution_count": 113,
     "metadata": {},
     "output_type": "execute_result"
    }
   ],
   "source": [
    "np.hsplit(a5,3)"
   ]
  },
  {
   "cell_type": "code",
   "execution_count": 114,
   "id": "f1f832c0",
   "metadata": {},
   "outputs": [
    {
     "data": {
      "text/plain": [
       "array([[False, False, False, False, False, False],\n",
       "       [False, False, False, False, False, False],\n",
       "       [False, False, False, False, False, False],\n",
       "       [False, False, False,  True,  True,  True],\n",
       "       [ True,  True,  True,  True,  True,  True]])"
      ]
     },
     "execution_count": 114,
     "metadata": {},
     "output_type": "execute_result"
    }
   ],
   "source": [
    "u=a5>20\n",
    "u"
   ]
  },
  {
   "cell_type": "code",
   "execution_count": 115,
   "id": "e79842dc",
   "metadata": {},
   "outputs": [
    {
     "data": {
      "text/plain": [
       "array([21, 22, 23, 24, 25, 26, 27, 28, 29])"
      ]
     },
     "execution_count": 115,
     "metadata": {},
     "output_type": "execute_result"
    }
   ],
   "source": [
    "a5[u]"
   ]
  },
  {
   "cell_type": "code",
   "execution_count": 116,
   "id": "06be67af",
   "metadata": {},
   "outputs": [
    {
     "data": {
      "text/plain": [
       "array([[ 0,  1,  2,  3,  4,  5],\n",
       "       [ 6,  7,  8,  9, 10, 11],\n",
       "       [12, 13, 14, 15, 16, 17],\n",
       "       [18, 19, 20, -1, -1, -1],\n",
       "       [-1, -1, -1, -1, -1, -1]])"
      ]
     },
     "execution_count": 116,
     "metadata": {},
     "output_type": "execute_result"
    }
   ],
   "source": [
    "a5[u]=-1\n",
    "a5"
   ]
  },
  {
   "cell_type": "code",
   "execution_count": 117,
   "id": "052a8dbb",
   "metadata": {},
   "outputs": [
    {
     "data": {
      "text/plain": [
       "array([[ 0.,  1.,  2.,  3.,  4.,  5.],\n",
       "       [ 6.,  7.,  8.,  9., 10., 11.],\n",
       "       [12., 13., 14., 15., 16., 17.],\n",
       "       [18., 19., 20., -1., -1., -1.],\n",
       "       [-1., -1., -1., -1., -1., -1.]])"
      ]
     },
     "execution_count": 117,
     "metadata": {},
     "output_type": "execute_result"
    }
   ],
   "source": [
    "#readandwrite files in numpy\n",
    "#np.savetxt('test.txt',a5) ------->to write file\n",
    "a3=np.loadtxt('test.txt') #------->to read file\n",
    "a3"
   ]
  },
  {
   "cell_type": "code",
   "execution_count": null,
   "id": "5a6c94fb",
   "metadata": {},
   "outputs": [],
   "source": []
  },
  {
   "cell_type": "code",
   "execution_count": null,
   "id": "12715794",
   "metadata": {},
   "outputs": [],
   "source": []
  }
 ],
 "metadata": {
  "kernelspec": {
   "display_name": "Python 3 (ipykernel)",
   "language": "python",
   "name": "python3"
  },
  "language_info": {
   "codemirror_mode": {
    "name": "ipython",
    "version": 3
   },
   "file_extension": ".py",
   "mimetype": "text/x-python",
   "name": "python",
   "nbconvert_exporter": "python",
   "pygments_lexer": "ipython3",
   "version": "3.9.7"
  }
 },
 "nbformat": 4,
 "nbformat_minor": 5
}
